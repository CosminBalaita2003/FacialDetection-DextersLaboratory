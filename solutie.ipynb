{
 "cells": [
  {
   "cell_type": "code",
   "id": "initial_id",
   "metadata": {
    "collapsed": true
   },
   "source": [
    "import os\n",
    "import cv2\n",
    "import numpy as np\n",
    "from skimage.feature import hog\n",
    "from sklearn.svm import SVC\n",
    "from sklearn.preprocessing import StandardScaler\n",
    "from joblib import dump, load\n"
   ],
   "outputs": [],
   "execution_count": 3
  },
  {
   "metadata": {
    "ExecuteTime": {
     "end_time": "2025-01-14T10:53:57.819188Z",
     "start_time": "2025-01-14T10:53:57.805093Z"
    }
   },
   "cell_type": "code",
   "source": [
    "def sliding_window(imagine, dimensiuni, pas):\n",
    "    \"\"\"\n",
    "    Generator pentru fereastra glisantă.\n",
    "    imagine: Imaginea de intrare.\n",
    "    dimensiuni: Dimensiunile ferestrei (lățime, înălțime).\n",
    "    pas: Pasul de glisare.\n",
    "    \"\"\"\n",
    "    inaltime, latime = imagine.shape[:2]\n",
    "    w, h = dimensiuni\n",
    "\n",
    "    for y in range(0, inaltime - h + 1, pas):\n",
    "        for x in range(0, latime - w + 1, pas):\n",
    "            patch = imagine[y:y + h, x:x + w]\n",
    "            yield (x, y, patch)\n"
   ],
   "id": "a09c2566c2b6416",
   "outputs": [],
   "execution_count": 5
  },
  {
   "metadata": {
    "ExecuteTime": {
     "end_time": "2025-01-14T10:53:59.889937Z",
     "start_time": "2025-01-14T10:53:59.858244Z"
    }
   },
   "cell_type": "code",
   "source": [
    "from skimage.feature import hog\n",
    "\n",
    "def extrage_caracteristici(imagine):\n",
    "    \"\"\"\n",
    "    Extragere caracteristici folosind HOG.\n",
    "    \"\"\"\n",
    "    imagine_gri = cv2.cvtColor(imagine, cv2.COLOR_BGR2GRAY)\n",
    "    caracteristici = hog(imagine_gri, orientations=9, pixels_per_cell=(8, 8),\n",
    "                         cells_per_block=(2, 2), block_norm=\"L2-Hys\", visualize=False)\n",
    "    return caracteristici\n"
   ],
   "id": "17d2735520c61774",
   "outputs": [],
   "execution_count": 6
  },
  {
   "metadata": {},
   "cell_type": "code",
   "outputs": [],
   "execution_count": null,
   "source": [
    "path_imagini_pozitive = \"teste_poz_pe_formw_redim\"\n",
    "path_imagini_negative = \"output_negatives_redim_bun\"\n",
    "imagini_pozitive = []\n",
    "imagini_negative = []\n"
   ],
   "id": "7a6ba19fdc5a62e8"
  },
  {
   "metadata": {
    "ExecuteTime": {
     "end_time": "2025-01-14T10:54:02.678645Z",
     "start_time": "2025-01-14T10:54:01.911481Z"
    }
   },
   "cell_type": "code",
   "outputs": [
    {
     "ename": "ValueError",
     "evalue": "With n_samples=0, test_size=0.2 and train_size=None, the resulting train set will be empty. Adjust any of the aforementioned parameters.",
     "output_type": "error",
     "traceback": [
      "\u001B[1;31m---------------------------------------------------------------------------\u001B[0m",
      "\u001B[1;31mValueError\u001B[0m                                Traceback (most recent call last)",
      "Cell \u001B[1;32mIn[7], line 10\u001B[0m\n\u001B[0;32m      7\u001B[0m y_train \u001B[38;5;241m=\u001B[39m []  \u001B[38;5;66;03m# Etichete (1 = față, 0 = non-față)\u001B[39;00m\n\u001B[0;32m      9\u001B[0m \u001B[38;5;66;03m# Splitează datele pentru antrenare și validare\u001B[39;00m\n\u001B[1;32m---> 10\u001B[0m X_train, X_valid, y_train, y_valid \u001B[38;5;241m=\u001B[39m \u001B[43mtrain_test_split\u001B[49m\u001B[43m(\u001B[49m\u001B[43mX_train\u001B[49m\u001B[43m,\u001B[49m\u001B[43m \u001B[49m\u001B[43my_train\u001B[49m\u001B[43m,\u001B[49m\u001B[43m \u001B[49m\u001B[43mtest_size\u001B[49m\u001B[38;5;241;43m=\u001B[39;49m\u001B[38;5;241;43m0.2\u001B[39;49m\u001B[43m,\u001B[49m\u001B[43m \u001B[49m\u001B[43mrandom_state\u001B[49m\u001B[38;5;241;43m=\u001B[39;49m\u001B[38;5;241;43m42\u001B[39;49m\u001B[43m)\u001B[49m\n\u001B[0;32m     12\u001B[0m \u001B[38;5;66;03m# Antrenează un SVM\u001B[39;00m\n\u001B[0;32m     13\u001B[0m model \u001B[38;5;241m=\u001B[39m SVC(kernel\u001B[38;5;241m=\u001B[39m\u001B[38;5;124m'\u001B[39m\u001B[38;5;124mlinear\u001B[39m\u001B[38;5;124m'\u001B[39m, probability\u001B[38;5;241m=\u001B[39m\u001B[38;5;28;01mTrue\u001B[39;00m)\n",
      "File \u001B[1;32m~\\AppData\\Local\\Packages\\PythonSoftwareFoundation.Python.3.10_qbz5n2kfra8p0\\LocalCache\\local-packages\\Python310\\site-packages\\sklearn\\utils\\_param_validation.py:216\u001B[0m, in \u001B[0;36mvalidate_params.<locals>.decorator.<locals>.wrapper\u001B[1;34m(*args, **kwargs)\u001B[0m\n\u001B[0;32m    210\u001B[0m \u001B[38;5;28;01mtry\u001B[39;00m:\n\u001B[0;32m    211\u001B[0m     \u001B[38;5;28;01mwith\u001B[39;00m config_context(\n\u001B[0;32m    212\u001B[0m         skip_parameter_validation\u001B[38;5;241m=\u001B[39m(\n\u001B[0;32m    213\u001B[0m             prefer_skip_nested_validation \u001B[38;5;129;01mor\u001B[39;00m global_skip_validation\n\u001B[0;32m    214\u001B[0m         )\n\u001B[0;32m    215\u001B[0m     ):\n\u001B[1;32m--> 216\u001B[0m         \u001B[38;5;28;01mreturn\u001B[39;00m func(\u001B[38;5;241m*\u001B[39margs, \u001B[38;5;241m*\u001B[39m\u001B[38;5;241m*\u001B[39mkwargs)\n\u001B[0;32m    217\u001B[0m \u001B[38;5;28;01mexcept\u001B[39;00m InvalidParameterError \u001B[38;5;28;01mas\u001B[39;00m e:\n\u001B[0;32m    218\u001B[0m     \u001B[38;5;66;03m# When the function is just a wrapper around an estimator, we allow\u001B[39;00m\n\u001B[0;32m    219\u001B[0m     \u001B[38;5;66;03m# the function to delegate validation to the estimator, but we replace\u001B[39;00m\n\u001B[0;32m    220\u001B[0m     \u001B[38;5;66;03m# the name of the estimator by the name of the function in the error\u001B[39;00m\n\u001B[0;32m    221\u001B[0m     \u001B[38;5;66;03m# message to avoid confusion.\u001B[39;00m\n\u001B[0;32m    222\u001B[0m     msg \u001B[38;5;241m=\u001B[39m re\u001B[38;5;241m.\u001B[39msub(\n\u001B[0;32m    223\u001B[0m         \u001B[38;5;124mr\u001B[39m\u001B[38;5;124m\"\u001B[39m\u001B[38;5;124mparameter of \u001B[39m\u001B[38;5;124m\\\u001B[39m\u001B[38;5;124mw+ must be\u001B[39m\u001B[38;5;124m\"\u001B[39m,\n\u001B[0;32m    224\u001B[0m         \u001B[38;5;124mf\u001B[39m\u001B[38;5;124m\"\u001B[39m\u001B[38;5;124mparameter of \u001B[39m\u001B[38;5;132;01m{\u001B[39;00mfunc\u001B[38;5;241m.\u001B[39m\u001B[38;5;18m__qualname__\u001B[39m\u001B[38;5;132;01m}\u001B[39;00m\u001B[38;5;124m must be\u001B[39m\u001B[38;5;124m\"\u001B[39m,\n\u001B[0;32m    225\u001B[0m         \u001B[38;5;28mstr\u001B[39m(e),\n\u001B[0;32m    226\u001B[0m     )\n",
      "File \u001B[1;32m~\\AppData\\Local\\Packages\\PythonSoftwareFoundation.Python.3.10_qbz5n2kfra8p0\\LocalCache\\local-packages\\Python310\\site-packages\\sklearn\\model_selection\\_split.py:2851\u001B[0m, in \u001B[0;36mtrain_test_split\u001B[1;34m(test_size, train_size, random_state, shuffle, stratify, *arrays)\u001B[0m\n\u001B[0;32m   2848\u001B[0m arrays \u001B[38;5;241m=\u001B[39m indexable(\u001B[38;5;241m*\u001B[39marrays)\n\u001B[0;32m   2850\u001B[0m n_samples \u001B[38;5;241m=\u001B[39m _num_samples(arrays[\u001B[38;5;241m0\u001B[39m])\n\u001B[1;32m-> 2851\u001B[0m n_train, n_test \u001B[38;5;241m=\u001B[39m \u001B[43m_validate_shuffle_split\u001B[49m\u001B[43m(\u001B[49m\n\u001B[0;32m   2852\u001B[0m \u001B[43m    \u001B[49m\u001B[43mn_samples\u001B[49m\u001B[43m,\u001B[49m\u001B[43m \u001B[49m\u001B[43mtest_size\u001B[49m\u001B[43m,\u001B[49m\u001B[43m \u001B[49m\u001B[43mtrain_size\u001B[49m\u001B[43m,\u001B[49m\u001B[43m \u001B[49m\u001B[43mdefault_test_size\u001B[49m\u001B[38;5;241;43m=\u001B[39;49m\u001B[38;5;241;43m0.25\u001B[39;49m\n\u001B[0;32m   2853\u001B[0m \u001B[43m\u001B[49m\u001B[43m)\u001B[49m\n\u001B[0;32m   2855\u001B[0m \u001B[38;5;28;01mif\u001B[39;00m shuffle \u001B[38;5;129;01mis\u001B[39;00m \u001B[38;5;28;01mFalse\u001B[39;00m:\n\u001B[0;32m   2856\u001B[0m     \u001B[38;5;28;01mif\u001B[39;00m stratify \u001B[38;5;129;01mis\u001B[39;00m \u001B[38;5;129;01mnot\u001B[39;00m \u001B[38;5;28;01mNone\u001B[39;00m:\n",
      "File \u001B[1;32m~\\AppData\\Local\\Packages\\PythonSoftwareFoundation.Python.3.10_qbz5n2kfra8p0\\LocalCache\\local-packages\\Python310\\site-packages\\sklearn\\model_selection\\_split.py:2481\u001B[0m, in \u001B[0;36m_validate_shuffle_split\u001B[1;34m(n_samples, test_size, train_size, default_test_size)\u001B[0m\n\u001B[0;32m   2478\u001B[0m n_train, n_test \u001B[38;5;241m=\u001B[39m \u001B[38;5;28mint\u001B[39m(n_train), \u001B[38;5;28mint\u001B[39m(n_test)\n\u001B[0;32m   2480\u001B[0m \u001B[38;5;28;01mif\u001B[39;00m n_train \u001B[38;5;241m==\u001B[39m \u001B[38;5;241m0\u001B[39m:\n\u001B[1;32m-> 2481\u001B[0m     \u001B[38;5;28;01mraise\u001B[39;00m \u001B[38;5;167;01mValueError\u001B[39;00m(\n\u001B[0;32m   2482\u001B[0m         \u001B[38;5;124m\"\u001B[39m\u001B[38;5;124mWith n_samples=\u001B[39m\u001B[38;5;132;01m{}\u001B[39;00m\u001B[38;5;124m, test_size=\u001B[39m\u001B[38;5;132;01m{}\u001B[39;00m\u001B[38;5;124m and train_size=\u001B[39m\u001B[38;5;132;01m{}\u001B[39;00m\u001B[38;5;124m, the \u001B[39m\u001B[38;5;124m\"\u001B[39m\n\u001B[0;32m   2483\u001B[0m         \u001B[38;5;124m\"\u001B[39m\u001B[38;5;124mresulting train set will be empty. Adjust any of the \u001B[39m\u001B[38;5;124m\"\u001B[39m\n\u001B[0;32m   2484\u001B[0m         \u001B[38;5;124m\"\u001B[39m\u001B[38;5;124maforementioned parameters.\u001B[39m\u001B[38;5;124m\"\u001B[39m\u001B[38;5;241m.\u001B[39mformat(n_samples, test_size, train_size)\n\u001B[0;32m   2485\u001B[0m     )\n\u001B[0;32m   2487\u001B[0m \u001B[38;5;28;01mreturn\u001B[39;00m n_train, n_test\n",
      "\u001B[1;31mValueError\u001B[0m: With n_samples=0, test_size=0.2 and train_size=None, the resulting train set will be empty. Adjust any of the aforementioned parameters."
     ]
    }
   ],
   "execution_count": 7,
   "source": [
    "from sklearn.svm import SVC\n",
    "from sklearn.model_selection import train_test_split\n",
    "import numpy as np\n",
    "\n",
    "# Încarcă datele antrenate (ex. caracteristici și etichete)\n",
    "# Încărcare și procesare imagini\n",
    "X_train = []\n",
    "y_train = []\n",
    "\n",
    "# Extragere caracteristici din imagini pozitive\n",
    "for imagine in imagini_pozitive:\n",
    "    caracteristici = extrage_caracteristici(imagine)\n",
    "    if caracteristici is not None:\n",
    "        X_train.append(caracteristici)\n",
    "        y_train.append(1)\n",
    "\n",
    "# Extragere caracteristici din imagini negative\n",
    "for imagine in imagini_negative:\n",
    "    caracteristici = extrage_caracteristici(imagine)\n",
    "    if caracteristici is not None:\n",
    "        X_train.append(caracteristici)\n",
    "        y_train.append(0)\n",
    "\n",
    "# Verificare\n",
    "print(f\"Număr total de mostre: {len(X_train)}\")\n",
    "print(f\"Etichete: {set(y_train)}\")\n",
    "\n",
    "if len(X_train) == 0 or len(y_train) == 0:\n",
    "    raise ValueError(\"Setul de date este gol. Verifică procesarea imaginilor.\")\n",
    "\n",
    "# Split setul de date\n",
    "X_train, X_valid, y_train, y_valid = train_test_split(\n",
    "    X_train, y_train, test_size=0.2, random_state=42\n",
    ")\n",
    "\n",
    "print(f\"Train set: {len(X_train)}, Validation set: {len(X_valid)}\")\n"
   ],
   "id": "315eec1eac7c2afb"
  },
  {
   "metadata": {
    "ExecuteTime": {
     "end_time": "2025-01-13T22:43:15.000292Z",
     "start_time": "2025-01-13T22:43:14.978069Z"
    }
   },
   "cell_type": "code",
   "source": [
    "import numpy as np\n",
    "\n",
    "def nms(detectii, scoruri, threshold=0.3):\n",
    "    \"\"\"\n",
    "    Aplica Non-Maximum Suppression.\n",
    "    detectii: Listă de dreptunghiuri (x, y, w, h).\n",
    "    scoruri: Listă de scoruri asociate fiecărui dreptunghi.\n",
    "    threshold: Pragul de suprapunere (IoU).\n",
    "    \"\"\"\n",
    "    if len(detectii) == 0:\n",
    "        return []\n",
    "\n",
    "    detectii = np.array(detectii)\n",
    "    scoruri = np.array(scoruri)\n",
    "\n",
    "    x1 = detectii[:, 0]\n",
    "    y1 = detectii[:, 1]\n",
    "    x2 = detectii[:, 0] + detectii[:, 2]\n",
    "    y2 = detectii[:, 1] + detectii[:, 3]\n",
    "    area = (x2 - x1 + 1) * (y2 - y1 + 1)\n",
    "\n",
    "    idxs = np.argsort(scoruri)[::-1]\n",
    "    supravietuitori = []\n",
    "\n",
    "    while len(idxs) > 0:\n",
    "        i = idxs[0]\n",
    "        supravietuitori.append(i)\n",
    "        idxs = idxs[1:]\n",
    "\n",
    "        xx1 = np.maximum(x1[i], x1[idxs])\n",
    "        yy1 = np.maximum(y1[i], y1[idxs])\n",
    "        xx2 = np.minimum(x2[i], x2[idxs])\n",
    "        yy2 = np.minimum(y2[i], y2[idxs])\n",
    "\n",
    "        w = np.maximum(0, xx2 - xx1 + 1)\n",
    "        h = np.maximum(0, yy2 - yy1 + 1)\n",
    "        overlap = (w * h) / area[idxs]\n",
    "\n",
    "        idxs = idxs[overlap <= threshold]\n",
    "\n",
    "    return [detectii[i] for i in supravietuitori]\n"
   ],
   "id": "a7127545a302867b",
   "outputs": [],
   "execution_count": 44
  },
  {
   "metadata": {
    "ExecuteTime": {
     "end_time": "2025-01-13T22:43:16.810105Z",
     "start_time": "2025-01-13T22:43:16.799629Z"
    }
   },
   "cell_type": "code",
   "source": [
    "def testeaza_detector(imagine, model, dimensiuni, pas):\n",
    "    detectii = []\n",
    "    scoruri = []\n",
    "    for dim in dimensiuni:\n",
    "        for (x, y, patch) in sliding_window(imagine, dim, pas):\n",
    "            caracteristici = extrage_caracteristici(patch)\n",
    "            scor = model.predict_proba([caracteristici])[0, 1]  # Scor pentru clasa 1 (față)\n",
    "            if scor > 0.5:\n",
    "                detectii.append((x, y, dim[0], dim[1]))\n",
    "                scoruri.append(scor)\n",
    "    detectii_finale = nms(detectii, scoruri)\n",
    "    return detectii_finale\n"
   ],
   "id": "111a8efb882bd9c2",
   "outputs": [],
   "execution_count": 45
  },
  {
   "metadata": {
    "ExecuteTime": {
     "end_time": "2025-01-13T22:43:17.896082Z",
     "start_time": "2025-01-13T22:43:17.867983Z"
    }
   },
   "cell_type": "code",
   "source": "",
   "id": "45b9900ac0c8e2a2",
   "outputs": [],
   "execution_count": 46
  },
  {
   "metadata": {
    "ExecuteTime": {
     "end_time": "2025-01-13T22:43:19.936909Z",
     "start_time": "2025-01-13T22:43:19.913953Z"
    }
   },
   "cell_type": "code",
   "source": "",
   "id": "6de3fae013b30070",
   "outputs": [],
   "execution_count": 47
  },
  {
   "metadata": {
    "ExecuteTime": {
     "end_time": "2025-01-13T22:45:29.754647Z",
     "start_time": "2025-01-13T22:43:21.173037Z"
    }
   },
   "cell_type": "code",
   "source": "",
   "id": "43dd297bf47abc08",
   "outputs": [
    {
     "ename": "ValueError",
     "evalue": "setting an array element with a sequence. The requested array has an inhomogeneous shape after 1 dimensions. The detected shape was (91047,) + inhomogeneous part.",
     "output_type": "error",
     "traceback": [
      "\u001B[1;31m---------------------------------------------------------------------------\u001B[0m",
      "\u001B[1;31mValueError\u001B[0m                                Traceback (most recent call last)",
      "Cell \u001B[1;32mIn[48], line 6\u001B[0m\n\u001B[0;32m      3\u001B[0m negative_folder \u001B[38;5;241m=\u001B[39m \u001B[38;5;124m\"\u001B[39m\u001B[38;5;124moutput_negatives_redim_bun\u001B[39m\u001B[38;5;124m\"\u001B[39m\n\u001B[0;32m      5\u001B[0m \u001B[38;5;66;03m# Încarcă și pregătește datele\u001B[39;00m\n\u001B[1;32m----> 6\u001B[0m features, labels \u001B[38;5;241m=\u001B[39m \u001B[43mload_dataset\u001B[49m\u001B[43m(\u001B[49m\u001B[43mpositive_folder\u001B[49m\u001B[43m,\u001B[49m\u001B[43m \u001B[49m\u001B[43mnegative_folder\u001B[49m\u001B[43m)\u001B[49m\n\u001B[0;32m      8\u001B[0m \u001B[38;5;66;03m# Antrenează clasificatorul\u001B[39;00m\n\u001B[0;32m      9\u001B[0m clf, scaler \u001B[38;5;241m=\u001B[39m train_classifier(features, labels)\n",
      "Cell \u001B[1;32mIn[42], line 27\u001B[0m, in \u001B[0;36mload_dataset\u001B[1;34m(positive_folder, negative_folder, resize_dims)\u001B[0m\n\u001B[0;32m     24\u001B[0m             features\u001B[38;5;241m.\u001B[39mappend(extract_hog_features(resized_img))\n\u001B[0;32m     25\u001B[0m             labels\u001B[38;5;241m.\u001B[39mappend(\u001B[38;5;241m0\u001B[39m)  \u001B[38;5;66;03m# Clasă negativă\u001B[39;00m\n\u001B[1;32m---> 27\u001B[0m \u001B[38;5;28;01mreturn\u001B[39;00m \u001B[43mnp\u001B[49m\u001B[38;5;241;43m.\u001B[39;49m\u001B[43marray\u001B[49m\u001B[43m(\u001B[49m\u001B[43mfeatures\u001B[49m\u001B[43m)\u001B[49m, np\u001B[38;5;241m.\u001B[39marray(labels)\n",
      "\u001B[1;31mValueError\u001B[0m: setting an array element with a sequence. The requested array has an inhomogeneous shape after 1 dimensions. The detected shape was (91047,) + inhomogeneous part."
     ]
    }
   ],
   "execution_count": 48
  }
 ],
 "metadata": {
  "kernelspec": {
   "display_name": "Python 3",
   "language": "python",
   "name": "python3"
  },
  "language_info": {
   "codemirror_mode": {
    "name": "ipython",
    "version": 2
   },
   "file_extension": ".py",
   "mimetype": "text/x-python",
   "name": "python",
   "nbconvert_exporter": "python",
   "pygments_lexer": "ipython2",
   "version": "2.7.6"
  }
 },
 "nbformat": 4,
 "nbformat_minor": 5
}
